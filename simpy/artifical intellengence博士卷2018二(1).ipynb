{
 "cells": [
  {
   "cell_type": "markdown",
   "metadata": {},
   "source": [
    "# 博士卷 2018\n",
    "## 二, (1) 从初始开始，不考虑手动计算"
   ]
  },
  {
   "cell_type": "code",
   "execution_count": 1,
   "metadata": {
    "ExecuteTime": {
     "end_time": "2019-11-03T10:53:59.566745Z",
     "start_time": "2019-11-03T10:53:58.882803Z"
    }
   },
   "outputs": [],
   "source": [
    "import sympy\n",
    "from sympy.matrices import Matrix, MatMul, Transpose\n",
    "from sympy import Symbol, gcd, flatten, pprint\n",
    "from sympy import solve\n",
    "from sympy import solve_univariate_inequality\n",
    "sympy.init_printing() # output to latex see https://qiita.com/ceptree/items/3668ca52f8621b13bbc2"
   ]
  },
  {
   "cell_type": "code",
   "execution_count": 2,
   "metadata": {
    "ExecuteTime": {
     "end_time": "2019-11-03T10:54:00.239915Z",
     "start_time": "2019-11-03T10:53:59.570588Z"
    }
   },
   "outputs": [
    {
     "data": {
      "text/latex": [
       "$$\\left[\\begin{matrix}\\frac{2 \\left(a^{2} - a + 1\\right)}{4 a^{2} - 4 a + 1} & \\frac{- 2 a^{2} + 2 a + 1}{4 a^{2} - 4 a + 1}\\\\\\frac{- 2 a^{2} + 2 a + 1}{4 a^{2} - 4 a + 1} & \\frac{2 \\left(a^{2} - a + 1\\right)}{4 a^{2} - 4 a + 1}\\end{matrix}\\right]$$"
      ],
      "text/plain": [
       "⎡   ⎛ 2        ⎞        2          ⎤\n",
       "⎢ 2⋅⎝a  - a + 1⎠   - 2⋅a  + 2⋅a + 1⎥\n",
       "⎢ ──────────────   ────────────────⎥\n",
       "⎢    2                 2           ⎥\n",
       "⎢ 4⋅a  - 4⋅a + 1    4⋅a  - 4⋅a + 1 ⎥\n",
       "⎢                                  ⎥\n",
       "⎢     2               ⎛ 2        ⎞ ⎥\n",
       "⎢- 2⋅a  + 2⋅a + 1   2⋅⎝a  - a + 1⎠ ⎥\n",
       "⎢────────────────   ────────────── ⎥\n",
       "⎢    2                 2           ⎥\n",
       "⎣ 4⋅a  - 4⋅a + 1    4⋅a  - 4⋅a + 1 ⎦"
      ]
     },
     "execution_count": 2,
     "metadata": {},
     "output_type": "execute_result"
    }
   ],
   "source": [
    "a = Symbol('a')\n",
    "u1 = Matrix([1, 1])\n",
    "u2 = Matrix([(a+1)/3, (a+1)/3,])\n",
    "x1 = Matrix([1, 1])\n",
    "x2 = Matrix([0, 1])\n",
    "x3 = Matrix([1, 0])\n",
    "x4 = Matrix([a, a])\n",
    "def buildM(x, u = u2):\n",
    "    v = x - u\n",
    "    return MatMul(v, Transpose(v))\n",
    "s2 = buildM(x2) +  buildM(x3) + buildM(x4)\n",
    "s2_inv = s2.inv()\n",
    "s2_inv_sim = s2_inv.simplify()\n",
    "s2_inv_sim "
   ]
  },
  {
   "cell_type": "code",
   "execution_count": 3,
   "metadata": {
    "ExecuteTime": {
     "end_time": "2019-11-03T10:54:00.340729Z",
     "start_time": "2019-11-03T10:54:00.241706Z"
    }
   },
   "outputs": [
    {
     "data": {
      "text/latex": [
       "$$\\left[\\begin{matrix}\\frac{2 a^{2}}{3} - \\frac{2 a}{3} + \\frac{2}{3} & \\frac{2 a^{2}}{3} - \\frac{2 a}{3} - \\frac{1}{3}\\\\\\frac{2 a^{2}}{3} - \\frac{2 a}{3} - \\frac{1}{3} & \\frac{2 a^{2}}{3} - \\frac{2 a}{3} + \\frac{2}{3}\\end{matrix}\\right]$$"
      ],
      "text/plain": [
       "⎡   2               2          ⎤\n",
       "⎢2⋅a    2⋅a   2  2⋅a    2⋅a   1⎥\n",
       "⎢──── - ─── + ─  ──── - ─── - ─⎥\n",
       "⎢ 3      3    3   3      3    3⎥\n",
       "⎢                              ⎥\n",
       "⎢   2               2          ⎥\n",
       "⎢2⋅a    2⋅a   1  2⋅a    2⋅a   2⎥\n",
       "⎢──── - ─── - ─  ──── - ─── + ─⎥\n",
       "⎣ 3      3    3   3      3    3⎦"
      ]
     },
     "execution_count": 3,
     "metadata": {},
     "output_type": "execute_result"
    }
   ],
   "source": [
    "s2.simplify()"
   ]
  },
  {
   "cell_type": "code",
   "execution_count": 4,
   "metadata": {
    "ExecuteTime": {
     "end_time": "2019-11-03T10:54:01.400958Z",
     "start_time": "2019-11-03T10:54:01.270766Z"
    }
   },
   "outputs": [
    {
     "data": {
      "text/latex": [
       "$$\\left[\\begin{matrix}\\frac{- a + 2}{4 a^{2} - 4 a + 1}\\\\\\frac{- a + 2}{4 a^{2} - 4 a + 1}\\end{matrix}\\right]$$"
      ],
      "text/plain": [
       "⎡    -a + 2    ⎤\n",
       "⎢──────────────⎥\n",
       "⎢   2          ⎥\n",
       "⎢4⋅a  - 4⋅a + 1⎥\n",
       "⎢              ⎥\n",
       "⎢    -a + 2    ⎥\n",
       "⎢──────────────⎥\n",
       "⎢   2          ⎥\n",
       "⎣4⋅a  - 4⋅a + 1⎦"
      ]
     },
     "execution_count": 4,
     "metadata": {},
     "output_type": "execute_result"
    }
   ],
   "source": [
    "w = MatMul(s2_inv_sim, u1 - u2)\n",
    "w = Matrix(w)\n",
    "w.simplify()\n",
    "w"
   ]
  },
  {
   "cell_type": "code",
   "execution_count": 5,
   "metadata": {
    "ExecuteTime": {
     "end_time": "2019-11-03T10:54:05.144159Z",
     "start_time": "2019-11-03T10:54:05.117055Z"
    }
   },
   "outputs": [
    {
     "data": {
      "text/latex": [
       "$$\\left [ \\frac{1}{2}\\right ]$$"
      ],
      "text/plain": [
       "[1/2]"
      ]
     },
     "execution_count": 5,
     "metadata": {},
     "output_type": "execute_result"
    }
   ],
   "source": [
    "eq = 4 * a**2  - 4 * a + 1\n",
    "solve(eq)"
   ]
  },
  {
   "cell_type": "markdown",
   "metadata": {},
   "source": [
    "总投影均值$\\theta_1$"
   ]
  },
  {
   "cell_type": "code",
   "execution_count": 133,
   "metadata": {
    "ExecuteTime": {
     "end_time": "2019-11-02T12:39:15.822170Z",
     "start_time": "2019-11-02T12:39:15.770441Z"
    }
   },
   "outputs": [
    {
     "data": {
      "text/latex": [
       "$$\\left[\\begin{matrix}\\frac{a^{2} - 4}{2 \\left(4 a^{2} - 4 a + 1\\right)}\\end{matrix}\\right]$$"
      ],
      "text/plain": [
       "⎡       2          ⎤\n",
       "⎢      a  - 4      ⎥\n",
       "⎢──────────────────⎥\n",
       "⎢  ⎛   2          ⎞⎥\n",
       "⎣2⋅⎝4⋅a  - 4⋅a + 1⎠⎦"
      ]
     },
     "execution_count": 133,
     "metadata": {},
     "output_type": "execute_result"
    }
   ],
   "source": [
    "N1 = 1\n",
    "N2 = 3\n",
    "theta1 = - MatMul(Transpose(w), N1*u1 + N2 * u2)/(N1+N2)\n",
    "theta1.simplify()"
   ]
  },
  {
   "cell_type": "code",
   "execution_count": 165,
   "metadata": {
    "ExecuteTime": {
     "end_time": "2019-11-02T12:49:30.148188Z",
     "start_time": "2019-11-02T12:49:29.841140Z"
    }
   },
   "outputs": [
    {
     "name": "stdout",
     "output_type": "stream",
     "text": [
      "0.0847750865051903\n"
     ]
    },
    {
     "data": {
      "text/latex": [
       "$$\\left(-\\infty < a \\wedge a < \\frac{1}{2}\\right) \\vee \\left(\\frac{1}{2} < a \\wedge a < 2\\right) \\vee \\left(2 < a \\wedge a < \\infty\\right)$$"
      ],
      "text/plain": [
       "(-∞ < a ∧ a < 1/2) ∨ (1/2 < a ∧ a < 2) ∨ (2 < a ∧ a < ∞)"
      ]
     },
     "execution_count": 165,
     "metadata": {},
     "output_type": "execute_result"
    }
   ],
   "source": [
    "# 类1点带入\n",
    "tmp = MatMul(Transpose(w), x1) + theta1\n",
    "tmp = flatten(tmp)[0]\n",
    "tmp = tmp.simplify()\n",
    "pprint(tmp.evalf(subs={a:9}))  # 带入a see https://blog.csdn.net/renyuanfang/article/details/87689886\n",
    "solve_univariate_inequality(tmp>0, a)"
   ]
  },
  {
   "cell_type": "code",
   "execution_count": 166,
   "metadata": {
    "ExecuteTime": {
     "end_time": "2019-11-02T12:49:32.309881Z",
     "start_time": "2019-11-02T12:49:31.976994Z"
    }
   },
   "outputs": [
    {
     "data": {
      "text/latex": [
       "$$\\left(0 < a \\wedge a < \\frac{1}{2}\\right) \\vee \\left(\\frac{1}{2} < a \\wedge a < 2\\right)$$"
      ],
      "text/plain": [
       "(0 < a ∧ a < 1/2) ∨ (1/2 < a ∧ a < 2)"
      ]
     },
     "execution_count": 166,
     "metadata": {},
     "output_type": "execute_result"
    }
   ],
   "source": [
    "# 类二，点带入\n",
    "def f(x):\n",
    "    tmp = MatMul(Transpose(w), x) + theta1\n",
    "    tmp = flatten(tmp)[0]\n",
    "    tmp = tmp.simplify()\n",
    "    return solve_univariate_inequality(tmp<0, a)\n",
    "f(x2)"
   ]
  },
  {
   "cell_type": "code",
   "execution_count": 161,
   "metadata": {
    "ExecuteTime": {
     "end_time": "2019-11-02T12:48:33.088737Z",
     "start_time": "2019-11-02T12:48:32.771549Z"
    }
   },
   "outputs": [
    {
     "data": {
      "text/latex": [
       "$$\\left(0 < a \\wedge a < \\frac{1}{2}\\right) \\vee \\left(\\frac{1}{2} < a \\wedge a < 2\\right)$$"
      ],
      "text/plain": [
       "(0 < a ∧ a < 1/2) ∨ (1/2 < a ∧ a < 2)"
      ]
     },
     "execution_count": 161,
     "metadata": {},
     "output_type": "execute_result"
    }
   ],
   "source": [
    "f(x3) "
   ]
  },
  {
   "cell_type": "code",
   "execution_count": 162,
   "metadata": {
    "ExecuteTime": {
     "end_time": "2019-11-02T12:48:39.939905Z",
     "start_time": "2019-11-02T12:48:39.517768Z"
    }
   },
   "outputs": [
    {
     "data": {
      "text/latex": [
       "$$\\left(-\\infty < a \\wedge a < \\frac{1}{2}\\right) \\vee \\left(\\frac{1}{2} < a \\wedge a < \\frac{2}{3}\\right) \\vee \\left(2 < a \\wedge a < \\infty\\right)$$"
      ],
      "text/plain": [
       "(-∞ < a ∧ a < 1/2) ∨ (1/2 < a ∧ a < 2/3) ∨ (2 < a ∧ a < ∞)"
      ]
     },
     "execution_count": 162,
     "metadata": {},
     "output_type": "execute_result"
    }
   ],
   "source": [
    "f(x4)"
   ]
  },
  {
   "cell_type": "markdown",
   "metadata": {},
   "source": [
    "总投影均值$\\theta_2$"
   ]
  },
  {
   "cell_type": "code",
   "execution_count": 172,
   "metadata": {
    "ExecuteTime": {
     "end_time": "2019-11-02T12:57:37.804605Z",
     "start_time": "2019-11-02T12:57:37.740271Z"
    }
   },
   "outputs": [
    {
     "data": {
      "text/latex": [
       "$$\\left[\\begin{matrix}\\frac{\\left(a - 2\\right) \\left(a + 4\\right)}{3 \\left(4 a^{2} - 4 a + 1\\right)}\\end{matrix}\\right]$$"
      ],
      "text/plain": [
       "⎡ (a - 2)⋅(a + 4)  ⎤\n",
       "⎢──────────────────⎥\n",
       "⎢  ⎛   2          ⎞⎥\n",
       "⎣3⋅⎝4⋅a  - 4⋅a + 1⎠⎦"
      ]
     },
     "execution_count": 172,
     "metadata": {},
     "output_type": "execute_result"
    }
   ],
   "source": [
    "theta2 = - MatMul(Transpose(w), (u1 + u2))/2\n",
    "theta2.simplify()"
   ]
  },
  {
   "cell_type": "code",
   "execution_count": 173,
   "metadata": {
    "ExecuteTime": {
     "end_time": "2019-11-02T12:59:18.694345Z",
     "start_time": "2019-11-02T12:59:18.354716Z"
    }
   },
   "outputs": [
    {
     "data": {
      "text/latex": [
       "$$\\left(-\\infty < a \\wedge a < \\frac{1}{2}\\right) \\vee \\left(\\frac{1}{2} < a \\wedge a < 2\\right) \\vee \\left(2 < a \\wedge a < \\infty\\right)$$"
      ],
      "text/plain": [
       "(-∞ < a ∧ a < 1/2) ∨ (1/2 < a ∧ a < 2) ∨ (2 < a ∧ a < ∞)"
      ]
     },
     "execution_count": 173,
     "metadata": {},
     "output_type": "execute_result"
    }
   ],
   "source": [
    "# 类1点带入\n",
    "tmp = MatMul(Transpose(w), x1) + theta2\n",
    "tmp = flatten(tmp)[0]\n",
    "tmp = tmp.simplify()\n",
    "# pprint(tmp.evalf(subs={a:9}))  # 带入a see https://blog.csdn.net/renyuanfang/article/details/87689886\n",
    "solve_univariate_inequality(tmp>0, a)"
   ]
  },
  {
   "cell_type": "code",
   "execution_count": 174,
   "metadata": {
    "ExecuteTime": {
     "end_time": "2019-11-02T13:00:24.015654Z",
     "start_time": "2019-11-02T13:00:23.668796Z"
    }
   },
   "outputs": [
    {
     "data": {
      "text/latex": [
       "$$\\left(-1 < a \\wedge a < \\frac{1}{2}\\right) \\vee \\left(\\frac{1}{2} < a \\wedge a < 2\\right)$$"
      ],
      "text/plain": [
       "(-1 < a ∧ a < 1/2) ∨ (1/2 < a ∧ a < 2)"
      ]
     },
     "execution_count": 174,
     "metadata": {},
     "output_type": "execute_result"
    }
   ],
   "source": [
    "# 类二，点带入\n",
    "def f(x):\n",
    "    tmp = MatMul(Transpose(w), x) + theta2\n",
    "    tmp = flatten(tmp)[0]\n",
    "    tmp = tmp.simplify()\n",
    "    return solve_univariate_inequality(tmp<0, a)\n",
    "f(x2)"
   ]
  },
  {
   "cell_type": "code",
   "execution_count": 175,
   "metadata": {
    "ExecuteTime": {
     "end_time": "2019-11-02T13:00:51.394466Z",
     "start_time": "2019-11-02T13:00:51.056180Z"
    }
   },
   "outputs": [
    {
     "data": {
      "text/latex": [
       "$$\\left(-1 < a \\wedge a < \\frac{1}{2}\\right) \\vee \\left(\\frac{1}{2} < a \\wedge a < 2\\right)$$"
      ],
      "text/plain": [
       "(-1 < a ∧ a < 1/2) ∨ (1/2 < a ∧ a < 2)"
      ]
     },
     "execution_count": 175,
     "metadata": {},
     "output_type": "execute_result"
    }
   ],
   "source": [
    "f(x3)"
   ]
  },
  {
   "cell_type": "code",
   "execution_count": 176,
   "metadata": {
    "ExecuteTime": {
     "end_time": "2019-11-02T13:00:54.295934Z",
     "start_time": "2019-11-02T13:00:53.869461Z"
    }
   },
   "outputs": [
    {
     "data": {
      "text/latex": [
       "$$\\left(-\\infty < a \\wedge a < \\frac{1}{2}\\right) \\vee \\left(\\frac{1}{2} < a \\wedge a < \\frac{4}{5}\\right) \\vee \\left(2 < a \\wedge a < \\infty\\right)$$"
      ],
      "text/plain": [
       "(-∞ < a ∧ a < 1/2) ∨ (1/2 < a ∧ a < 4/5) ∨ (2 < a ∧ a < ∞)"
      ]
     },
     "execution_count": 176,
     "metadata": {},
     "output_type": "execute_result"
    }
   ],
   "source": [
    "f(x4)"
   ]
  }
 ],
 "metadata": {
  "kernelspec": {
   "display_name": "Python 3",
   "language": "python",
   "name": "python3"
  },
  "language_info": {
   "codemirror_mode": {
    "name": "ipython",
    "version": 3
   },
   "file_extension": ".py",
   "mimetype": "text/x-python",
   "name": "python",
   "nbconvert_exporter": "python",
   "pygments_lexer": "ipython3",
   "version": "3.6.5"
  }
 },
 "nbformat": 4,
 "nbformat_minor": 2
}
