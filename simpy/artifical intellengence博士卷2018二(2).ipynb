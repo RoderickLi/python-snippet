{
 "cells": [
  {
   "cell_type": "markdown",
   "metadata": {},
   "source": [
    "# 博士卷 2018\n",
    "## 二, (2) 从初始开始，不考虑手动计算"
   ]
  },
  {
   "cell_type": "code",
   "execution_count": 26,
   "metadata": {
    "ExecuteTime": {
     "end_time": "2019-11-03T11:20:38.472385Z",
     "start_time": "2019-11-03T11:20:38.464323Z"
    }
   },
   "outputs": [],
   "source": [
    "import sympy\n",
    "from sympy.matrices import Matrix, MatMul, Transpose\n",
    "from sympy import Symbol, flatten, symbols\n",
    "from sympy import solve, solve_univariate_inequality\n",
    "\n",
    "# 抽取matrix的公共scalar\n",
    "from sympy import together # 合并分数\n",
    "from sympy import factor # 展开多项式复原成项的乘法\n",
    "from sympy import gcd # 找公因子项\n",
    "\n",
    "# 抽取分子，分母 n,d=fraction(expression)\n",
    "# @see https://stackoverflow.com/questions/39130964/how-to-extract-numerator-and-denominator-from-polynomial-without-evaluating\n",
    "# 上に分子（ぶんし、英: numerator）、下に分母（ぶんぼ、英: denominator）\n",
    "from sympy import fraction\n",
    "\n",
    "# convert float to rational @see https://docs.sympy.org/latest/modules/simplify/simplify.html#sympy.simplify.simplify.nsimplify\n",
    "from sympy.simplify import nsimplify \n",
    "# or use Rational at the very first place\n",
    "from sympy import Rational\n",
    "\n",
    "sympy.init_printing() # output to latex @see https://qiita.com/ceptree/items/3668ca52f8621b13bbc2"
   ]
  },
  {
   "cell_type": "code",
   "execution_count": 27,
   "metadata": {
    "ExecuteTime": {
     "end_time": "2019-11-03T11:20:38.493124Z",
     "start_time": "2019-11-03T11:20:38.474990Z"
    }
   },
   "outputs": [],
   "source": [
    "a = Symbol('a')\n",
    "N1 = 1\n",
    "N2 = 3\n",
    "N = N1 + N2\n",
    "u1 = Matrix([1, 1])\n",
    "u2 = Matrix([(a+1)/3, (a+1)/3,])\n",
    "x1 = Matrix([1, 1])\n",
    "x2 = Matrix([0, 1])\n",
    "x3 = Matrix([1, 0])\n",
    "x4 = Matrix([a, a])\n",
    "X_bar = Matrix(\n",
    "    [\n",
    "    [1, *x1],\n",
    "    [1, *x2],\n",
    "    [1, *x3],\n",
    "    [1, *x4],\n",
    "    ]\n",
    ")\n",
    "dp_1 = Matrix([Rational(N, N1), *[Rational(-N, N2) for i in range(3)]])\n",
    "dp_2 = Matrix([1, -1, -1, -1])"
   ]
  },
  {
   "cell_type": "markdown",
   "metadata": {},
   "source": [
    "# dp_1"
   ]
  },
  {
   "cell_type": "code",
   "execution_count": 28,
   "metadata": {
    "ExecuteTime": {
     "end_time": "2019-11-03T11:20:39.087478Z",
     "start_time": "2019-11-03T11:20:38.495251Z"
    }
   },
   "outputs": [
    {
     "data": {
      "text/latex": [
       "$$\\frac{a - 2}{3 a^{2} - 4 a + 2}$$"
      ],
      "text/plain": [
       "    a - 2     \n",
       "──────────────\n",
       "   2          \n",
       "3⋅a  - 4⋅a + 2"
      ]
     },
     "execution_count": 28,
     "metadata": {},
     "output_type": "execute_result"
    }
   ],
   "source": [
    "dp = dp_1\n",
    "left = MatMul(Transpose(X_bar), X_bar)\n",
    "left = Matrix(left).inv()\n",
    "right = MatMul(Transpose(X_bar), dp)\n",
    "ans = MatMul(left, right)\n",
    "ans = Matrix(ans)\n",
    "ans.simplify()\n",
    "ans = factor(ans)\n",
    "g = together(gcd(ans.values()))\n",
    "g"
   ]
  },
  {
   "cell_type": "code",
   "execution_count": 29,
   "metadata": {
    "ExecuteTime": {
     "end_time": "2019-11-03T11:20:39.131853Z",
     "start_time": "2019-11-03T11:20:39.089475Z"
    }
   },
   "outputs": [
    {
     "data": {
      "text/latex": [
       "$$\\left [ \\frac{2}{3} - \\frac{\\sqrt{2} i}{3}, \\quad \\frac{2}{3} + \\frac{\\sqrt{2} i}{3}\\right ]$$"
      ],
      "text/plain": [
       "⎡2   √2⋅ⅈ  2   √2⋅ⅈ⎤\n",
       "⎢─ - ────, ─ + ────⎥\n",
       "⎣3    3    3    3  ⎦"
      ]
     },
     "execution_count": 29,
     "metadata": {},
     "output_type": "execute_result"
    }
   ],
   "source": [
    "n,d = fraction(g )\n",
    "solve(d)"
   ]
  },
  {
   "cell_type": "code",
   "execution_count": 30,
   "metadata": {
    "ExecuteTime": {
     "end_time": "2019-11-03T11:20:39.144795Z",
     "start_time": "2019-11-03T11:20:39.133460Z"
    }
   },
   "outputs": [
    {
     "data": {
      "text/latex": [
       "$$\\frac{4 \\left(a - 2\\right)}{3 \\left(3 a^{2} - 4 a + 2\\right)}$$"
      ],
      "text/plain": [
       "    4⋅(a - 2)     \n",
       "──────────────────\n",
       "  ⎛   2          ⎞\n",
       "3⋅⎝3⋅a  - 4⋅a + 2⎠"
      ]
     },
     "execution_count": 30,
     "metadata": {},
     "output_type": "execute_result"
    }
   ],
   "source": [
    "g = g * Rational(4,3)\n",
    "g"
   ]
  },
  {
   "cell_type": "code",
   "execution_count": 31,
   "metadata": {
    "ExecuteTime": {
     "end_time": "2019-11-03T11:20:39.165428Z",
     "start_time": "2019-11-03T11:20:39.146496Z"
    }
   },
   "outputs": [
    {
     "data": {
      "text/latex": [
       "$$\\left[\\begin{matrix}a + 2\\\\-2\\\\-2\\end{matrix}\\right]$$"
      ],
      "text/plain": [
       "⎡a + 2⎤\n",
       "⎢     ⎥\n",
       "⎢ -2  ⎥\n",
       "⎢     ⎥\n",
       "⎣ -2  ⎦"
      ]
     },
     "execution_count": 31,
     "metadata": {},
     "output_type": "execute_result"
    }
   ],
   "source": [
    "together(ans / g)"
   ]
  },
  {
   "cell_type": "markdown",
   "metadata": {},
   "source": [
    "# 类1"
   ]
  },
  {
   "cell_type": "code",
   "execution_count": 32,
   "metadata": {
    "ExecuteTime": {
     "end_time": "2019-11-03T11:20:39.552036Z",
     "start_time": "2019-11-03T11:20:39.168454Z"
    }
   },
   "outputs": [
    {
     "data": {
      "text/latex": [
       "$$\\left(-\\infty < a \\wedge a < 2\\right) \\vee \\left(2 < a \\wedge a < \\infty\\right)$$"
      ],
      "text/plain": [
       "(-∞ < a ∧ a < 2) ∨ (2 < a ∧ a < ∞)"
      ]
     },
     "execution_count": 32,
     "metadata": {},
     "output_type": "execute_result"
    }
   ],
   "source": [
    "tmp = MatMul( X_bar.row(0), ans)\n",
    "tmp = Matrix(tmp)\n",
    "tmp = flatten(tmp)[0]\n",
    "solve_univariate_inequality(tmp>0,a)"
   ]
  },
  {
   "cell_type": "markdown",
   "metadata": {},
   "source": [
    "# 类2"
   ]
  },
  {
   "cell_type": "code",
   "execution_count": 33,
   "metadata": {
    "ExecuteTime": {
     "end_time": "2019-11-03T11:20:39.957559Z",
     "start_time": "2019-11-03T11:20:39.554483Z"
    }
   },
   "outputs": [
    {
     "data": {
      "text/latex": [
       "$$0 < a \\wedge a < 2$$"
      ],
      "text/plain": [
       "0 < a ∧ a < 2"
      ]
     },
     "execution_count": 33,
     "metadata": {},
     "output_type": "execute_result"
    }
   ],
   "source": [
    "def f(i):\n",
    "    tmp = MatMul( X_bar.row(i), ans)\n",
    "    tmp = Matrix(tmp)\n",
    "    tmp = flatten(tmp)[0]\n",
    "    return solve_univariate_inequality(tmp<0,a)\n",
    "f(1)"
   ]
  },
  {
   "cell_type": "code",
   "execution_count": 34,
   "metadata": {
    "ExecuteTime": {
     "end_time": "2019-11-03T11:20:40.264704Z",
     "start_time": "2019-11-03T11:20:39.959512Z"
    }
   },
   "outputs": [
    {
     "data": {
      "text/latex": [
       "$$0 < a \\wedge a < 2$$"
      ],
      "text/plain": [
       "0 < a ∧ a < 2"
      ]
     },
     "execution_count": 34,
     "metadata": {},
     "output_type": "execute_result"
    }
   ],
   "source": [
    "f(2)"
   ]
  },
  {
   "cell_type": "code",
   "execution_count": 35,
   "metadata": {
    "ExecuteTime": {
     "end_time": "2019-11-03T11:20:40.649111Z",
     "start_time": "2019-11-03T11:20:40.266554Z"
    }
   },
   "outputs": [
    {
     "data": {
      "text/latex": [
       "$$\\left(-\\infty < a \\wedge a < \\frac{2}{3}\\right) \\vee \\left(2 < a \\wedge a < \\infty\\right)$$"
      ],
      "text/plain": [
       "(-∞ < a ∧ a < 2/3) ∨ (2 < a ∧ a < ∞)"
      ]
     },
     "execution_count": 35,
     "metadata": {},
     "output_type": "execute_result"
    }
   ],
   "source": [
    "f(3)"
   ]
  },
  {
   "cell_type": "code",
   "execution_count": null,
   "metadata": {},
   "outputs": [],
   "source": []
  },
  {
   "cell_type": "code",
   "execution_count": 39,
   "metadata": {
    "ExecuteTime": {
     "end_time": "2019-11-03T11:21:28.936092Z",
     "start_time": "2019-11-03T11:21:28.165709Z"
    }
   },
   "outputs": [
    {
     "data": {
      "text/latex": [
       "$$\\frac{1}{3 a^{2} - 4 a + 2}$$"
      ],
      "text/plain": [
       "      1       \n",
       "──────────────\n",
       "   2          \n",
       "3⋅a  - 4⋅a + 2"
      ]
     },
     "execution_count": 39,
     "metadata": {},
     "output_type": "execute_result"
    }
   ],
   "source": [
    "dp = dp_2\n",
    "left = MatMul(Transpose(X_bar), X_bar)\n",
    "left = Matrix(left).inv()\n",
    "right = MatMul(Transpose(X_bar), dp)\n",
    "ans = MatMul(left, right)\n",
    "ans = Matrix(ans)\n",
    "ans.simplify()\n",
    "ans = factor(ans)\n",
    "g = together(gcd(ans.values()))\n",
    "g"
   ]
  },
  {
   "cell_type": "code",
   "execution_count": 41,
   "metadata": {
    "ExecuteTime": {
     "end_time": "2019-11-03T11:21:33.093522Z",
     "start_time": "2019-11-03T11:21:33.069508Z"
    }
   },
   "outputs": [
    {
     "data": {
      "text/latex": [
       "$$\\left[\\begin{matrix}- a^{2} + 2 a - 3\\\\- a + 2\\\\- a + 2\\end{matrix}\\right]$$"
      ],
      "text/plain": [
       "⎡   2          ⎤\n",
       "⎢- a  + 2⋅a - 3⎥\n",
       "⎢              ⎥\n",
       "⎢    -a + 2    ⎥\n",
       "⎢              ⎥\n",
       "⎣    -a + 2    ⎦"
      ]
     },
     "execution_count": 41,
     "metadata": {},
     "output_type": "execute_result"
    }
   ],
   "source": [
    "ans / g"
   ]
  },
  {
   "cell_type": "markdown",
   "metadata": {},
   "source": [
    "# 类1"
   ]
  },
  {
   "cell_type": "code",
   "execution_count": 43,
   "metadata": {
    "ExecuteTime": {
     "end_time": "2019-11-03T11:23:02.922497Z",
     "start_time": "2019-11-03T11:23:02.584041Z"
    }
   },
   "outputs": [
    {
     "data": {
      "text/latex": [
       "$$-1 < a \\wedge a < 1$$"
      ],
      "text/plain": [
       "-1 < a ∧ a < 1"
      ]
     },
     "execution_count": 43,
     "metadata": {},
     "output_type": "execute_result"
    }
   ],
   "source": [
    "tmp = MatMul( X_bar.row(0), ans)\n",
    "tmp = Matrix(tmp)\n",
    "tmp = flatten(tmp)[0]\n",
    "solve_univariate_inequality(tmp>0,a)"
   ]
  },
  {
   "cell_type": "markdown",
   "metadata": {},
   "source": [
    "# 类2"
   ]
  },
  {
   "cell_type": "code",
   "execution_count": 44,
   "metadata": {
    "ExecuteTime": {
     "end_time": "2019-11-03T11:23:31.445083Z",
     "start_time": "2019-11-03T11:23:31.152809Z"
    }
   },
   "outputs": [
    {
     "data": {
      "text/latex": [
       "$$-\\infty < a \\wedge a < \\infty$$"
      ],
      "text/plain": [
       "-∞ < a ∧ a < ∞"
      ]
     },
     "execution_count": 44,
     "metadata": {},
     "output_type": "execute_result"
    }
   ],
   "source": [
    "def f(i):\n",
    "    tmp = MatMul( X_bar.row(i), ans)\n",
    "    tmp = Matrix(tmp)\n",
    "    tmp = flatten(tmp)[0]\n",
    "    return solve_univariate_inequality(tmp<0,a)\n",
    "f(1)"
   ]
  },
  {
   "cell_type": "code",
   "execution_count": 45,
   "metadata": {
    "ExecuteTime": {
     "end_time": "2019-11-03T11:23:34.107934Z",
     "start_time": "2019-11-03T11:23:33.856249Z"
    }
   },
   "outputs": [
    {
     "data": {
      "text/latex": [
       "$$-\\infty < a \\wedge a < \\infty$$"
      ],
      "text/plain": [
       "-∞ < a ∧ a < ∞"
      ]
     },
     "execution_count": 45,
     "metadata": {},
     "output_type": "execute_result"
    }
   ],
   "source": [
    "f(2)"
   ]
  },
  {
   "cell_type": "code",
   "execution_count": 46,
   "metadata": {
    "ExecuteTime": {
     "end_time": "2019-11-03T11:23:36.874668Z",
     "start_time": "2019-11-03T11:23:36.520687Z"
    }
   },
   "outputs": [
    {
     "data": {
      "text/latex": [
       "$$\\left(-\\infty < a \\wedge a < 1\\right) \\vee \\left(1 < a \\wedge a < \\infty\\right)$$"
      ],
      "text/plain": [
       "(-∞ < a ∧ a < 1) ∨ (1 < a ∧ a < ∞)"
      ]
     },
     "execution_count": 46,
     "metadata": {},
     "output_type": "execute_result"
    }
   ],
   "source": [
    "f(3)"
   ]
  },
  {
   "cell_type": "code",
   "execution_count": 49,
   "metadata": {
    "ExecuteTime": {
     "end_time": "2019-11-03T11:52:07.603557Z",
     "start_time": "2019-11-03T11:52:07.589271Z"
    }
   },
   "outputs": [
    {
     "data": {
      "text/latex": [
       "$$1200$$"
      ],
      "text/plain": [
       "1200"
      ]
     },
     "execution_count": 49,
     "metadata": {},
     "output_type": "execute_result"
    }
   ],
   "source": [
    "(4+15+15+6)*30"
   ]
  },
  {
   "cell_type": "code",
   "execution_count": null,
   "metadata": {},
   "outputs": [],
   "source": []
  }
 ],
 "metadata": {
  "kernelspec": {
   "display_name": "Python 3",
   "language": "python",
   "name": "python3"
  },
  "language_info": {
   "codemirror_mode": {
    "name": "ipython",
    "version": 3
   },
   "file_extension": ".py",
   "mimetype": "text/x-python",
   "name": "python",
   "nbconvert_exporter": "python",
   "pygments_lexer": "ipython3",
   "version": "3.6.5"
  }
 },
 "nbformat": 4,
 "nbformat_minor": 2
}
